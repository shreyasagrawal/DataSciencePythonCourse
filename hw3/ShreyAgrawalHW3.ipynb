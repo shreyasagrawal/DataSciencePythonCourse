{
 "cells": [
  {
   "cell_type": "markdown",
   "metadata": {},
   "source": [
    "#  Homework 3 (HW3)\n",
    "\n",
    "Deadline: November 18th Midnight\n",
    "\n",
    "Hand in: the homework must be handed in through the Moodle system. \n",
    "\n",
    "<span style=\"color:red\">Provide a written answer if requested in the exercise! These questions are marked in red.</span>"
   ]
  },
  {
   "cell_type": "markdown",
   "metadata": {},
   "source": [
    "---"
   ]
  },
  {
   "cell_type": "markdown",
   "metadata": {},
   "source": [
    "## Exercise 1 (HW3/1)"
   ]
  },
  {
   "cell_type": "markdown",
   "metadata": {},
   "source": [
    "In this exercise we  predict the quality of different wines! Can a winemaker predict whether his wine will be considered a good quality wine by the jury based on it's chemical properties only? 🍷 (50%)"
   ]
  },
  {
   "cell_type": "markdown",
   "metadata": {},
   "source": [
    "**a)** We will work using the data available at the [UCI dataset](https://archive.ics.uci.edu/ml/datasets/Wine+Quality). It  contains data on 11 chemical properties (e.g. sugar content, pH, alcohol content, etc.) of thousands of north-Portugalian wines. Each wine has a quality-score on a scale of 10. \n",
    "\n",
    "* Import the **Red** wine data into a pandas dataframe from the [dataset](https://archive.ics.uci.edu/ml/machine-learning-databases/wine-quality/). (You can import the data directly from the web page, without dowloading it to your computer!) The *quality* column will be the target variable, the rest will be the features. \n",
    "* This will be a binary classification problem, hence, redefine the target variable in the following way: let it be 0 if the *quality < 7* (bad wines) and let it be 1 if *quality $\\geq$ 7* (good wines). Create separate *numpy arrays* to store the target and the rest of the attributes!  \n"
   ]
  },
  {
   "cell_type": "code",
   "execution_count": 2,
   "metadata": {},
   "outputs": [],
   "source": [
    "import pandas as pd\n",
    "redwine = pd.read_csv(\"https://archive.ics.uci.edu/ml/machine-learning-databases/wine-quality/winequality-red.csv\")"
   ]
  },
  {
   "cell_type": "code",
   "execution_count": 3,
   "metadata": {},
   "outputs": [],
   "source": [
    "# to split into multiple columns by delimiter\n",
    "redwinecleaned = redwine.iloc[:,0].str.split(\";\", expand=True)\n",
    "#to add column names to the new dataset\n",
    "colnames = redwine.columns[0].split(';')\n",
    "#cleaning column names\n",
    "colnamesnew = [c.replace(\"\\\"\", '') for c in colnames]\n",
    "redwinecleaned.columns = colnamesnew\n"
   ]
  },
  {
   "cell_type": "code",
   "execution_count": 4,
   "metadata": {},
   "outputs": [],
   "source": [
    "import numpy as np\n",
    "#changing the quality value to be 0 if quality < 7, 1 if quality>=7\n",
    "redwinecleaned[\"quality\"] = np.where(redwinecleaned[\"quality\"] < \"7\", 0, 1)"
   ]
  },
  {
   "cell_type": "code",
   "execution_count": 5,
   "metadata": {},
   "outputs": [
    {
     "data": {
      "text/html": [
       "<div>\n",
       "<style scoped>\n",
       "    .dataframe tbody tr th:only-of-type {\n",
       "        vertical-align: middle;\n",
       "    }\n",
       "\n",
       "    .dataframe tbody tr th {\n",
       "        vertical-align: top;\n",
       "    }\n",
       "\n",
       "    .dataframe thead th {\n",
       "        text-align: right;\n",
       "    }\n",
       "</style>\n",
       "<table border=\"1\" class=\"dataframe\">\n",
       "  <thead>\n",
       "    <tr style=\"text-align: right;\">\n",
       "      <th></th>\n",
       "      <th>fixed acidity</th>\n",
       "      <th>volatile acidity</th>\n",
       "      <th>citric acid</th>\n",
       "      <th>residual sugar</th>\n",
       "      <th>chlorides</th>\n",
       "      <th>free sulfur dioxide</th>\n",
       "      <th>total sulfur dioxide</th>\n",
       "      <th>density</th>\n",
       "      <th>pH</th>\n",
       "      <th>sulphates</th>\n",
       "      <th>alcohol</th>\n",
       "      <th>quality</th>\n",
       "    </tr>\n",
       "  </thead>\n",
       "  <tbody>\n",
       "    <tr>\n",
       "      <th>0</th>\n",
       "      <td>7.4</td>\n",
       "      <td>0.7</td>\n",
       "      <td>0</td>\n",
       "      <td>1.9</td>\n",
       "      <td>0.076</td>\n",
       "      <td>11</td>\n",
       "      <td>34</td>\n",
       "      <td>0.9978</td>\n",
       "      <td>3.51</td>\n",
       "      <td>0.56</td>\n",
       "      <td>9.4</td>\n",
       "      <td>0</td>\n",
       "    </tr>\n",
       "    <tr>\n",
       "      <th>1</th>\n",
       "      <td>7.8</td>\n",
       "      <td>0.88</td>\n",
       "      <td>0</td>\n",
       "      <td>2.6</td>\n",
       "      <td>0.098</td>\n",
       "      <td>25</td>\n",
       "      <td>67</td>\n",
       "      <td>0.9968</td>\n",
       "      <td>3.2</td>\n",
       "      <td>0.68</td>\n",
       "      <td>9.8</td>\n",
       "      <td>0</td>\n",
       "    </tr>\n",
       "    <tr>\n",
       "      <th>2</th>\n",
       "      <td>7.8</td>\n",
       "      <td>0.76</td>\n",
       "      <td>0.04</td>\n",
       "      <td>2.3</td>\n",
       "      <td>0.092</td>\n",
       "      <td>15</td>\n",
       "      <td>54</td>\n",
       "      <td>0.997</td>\n",
       "      <td>3.26</td>\n",
       "      <td>0.65</td>\n",
       "      <td>9.8</td>\n",
       "      <td>0</td>\n",
       "    </tr>\n",
       "    <tr>\n",
       "      <th>3</th>\n",
       "      <td>11.2</td>\n",
       "      <td>0.28</td>\n",
       "      <td>0.56</td>\n",
       "      <td>1.9</td>\n",
       "      <td>0.075</td>\n",
       "      <td>17</td>\n",
       "      <td>60</td>\n",
       "      <td>0.998</td>\n",
       "      <td>3.16</td>\n",
       "      <td>0.58</td>\n",
       "      <td>9.8</td>\n",
       "      <td>0</td>\n",
       "    </tr>\n",
       "    <tr>\n",
       "      <th>4</th>\n",
       "      <td>7.4</td>\n",
       "      <td>0.7</td>\n",
       "      <td>0</td>\n",
       "      <td>1.9</td>\n",
       "      <td>0.076</td>\n",
       "      <td>11</td>\n",
       "      <td>34</td>\n",
       "      <td>0.9978</td>\n",
       "      <td>3.51</td>\n",
       "      <td>0.56</td>\n",
       "      <td>9.4</td>\n",
       "      <td>0</td>\n",
       "    </tr>\n",
       "    <tr>\n",
       "      <th>...</th>\n",
       "      <td>...</td>\n",
       "      <td>...</td>\n",
       "      <td>...</td>\n",
       "      <td>...</td>\n",
       "      <td>...</td>\n",
       "      <td>...</td>\n",
       "      <td>...</td>\n",
       "      <td>...</td>\n",
       "      <td>...</td>\n",
       "      <td>...</td>\n",
       "      <td>...</td>\n",
       "      <td>...</td>\n",
       "    </tr>\n",
       "    <tr>\n",
       "      <th>1594</th>\n",
       "      <td>6.2</td>\n",
       "      <td>0.6</td>\n",
       "      <td>0.08</td>\n",
       "      <td>2</td>\n",
       "      <td>0.09</td>\n",
       "      <td>32</td>\n",
       "      <td>44</td>\n",
       "      <td>0.9949</td>\n",
       "      <td>3.45</td>\n",
       "      <td>0.58</td>\n",
       "      <td>10.5</td>\n",
       "      <td>0</td>\n",
       "    </tr>\n",
       "    <tr>\n",
       "      <th>1595</th>\n",
       "      <td>5.9</td>\n",
       "      <td>0.55</td>\n",
       "      <td>0.1</td>\n",
       "      <td>2.2</td>\n",
       "      <td>0.062</td>\n",
       "      <td>39</td>\n",
       "      <td>51</td>\n",
       "      <td>0.99512</td>\n",
       "      <td>3.52</td>\n",
       "      <td>0.76</td>\n",
       "      <td>11.2</td>\n",
       "      <td>0</td>\n",
       "    </tr>\n",
       "    <tr>\n",
       "      <th>1596</th>\n",
       "      <td>6.3</td>\n",
       "      <td>0.51</td>\n",
       "      <td>0.13</td>\n",
       "      <td>2.3</td>\n",
       "      <td>0.076</td>\n",
       "      <td>29</td>\n",
       "      <td>40</td>\n",
       "      <td>0.99574</td>\n",
       "      <td>3.42</td>\n",
       "      <td>0.75</td>\n",
       "      <td>11</td>\n",
       "      <td>0</td>\n",
       "    </tr>\n",
       "    <tr>\n",
       "      <th>1597</th>\n",
       "      <td>5.9</td>\n",
       "      <td>0.645</td>\n",
       "      <td>0.12</td>\n",
       "      <td>2</td>\n",
       "      <td>0.075</td>\n",
       "      <td>32</td>\n",
       "      <td>44</td>\n",
       "      <td>0.99547</td>\n",
       "      <td>3.57</td>\n",
       "      <td>0.71</td>\n",
       "      <td>10.2</td>\n",
       "      <td>0</td>\n",
       "    </tr>\n",
       "    <tr>\n",
       "      <th>1598</th>\n",
       "      <td>6</td>\n",
       "      <td>0.31</td>\n",
       "      <td>0.47</td>\n",
       "      <td>3.6</td>\n",
       "      <td>0.067</td>\n",
       "      <td>18</td>\n",
       "      <td>42</td>\n",
       "      <td>0.99549</td>\n",
       "      <td>3.39</td>\n",
       "      <td>0.66</td>\n",
       "      <td>11</td>\n",
       "      <td>0</td>\n",
       "    </tr>\n",
       "  </tbody>\n",
       "</table>\n",
       "<p>1599 rows × 12 columns</p>\n",
       "</div>"
      ],
      "text/plain": [
       "     fixed acidity volatile acidity citric acid residual sugar chlorides  \\\n",
       "0              7.4              0.7           0            1.9     0.076   \n",
       "1              7.8             0.88           0            2.6     0.098   \n",
       "2              7.8             0.76        0.04            2.3     0.092   \n",
       "3             11.2             0.28        0.56            1.9     0.075   \n",
       "4              7.4              0.7           0            1.9     0.076   \n",
       "...            ...              ...         ...            ...       ...   \n",
       "1594           6.2              0.6        0.08              2      0.09   \n",
       "1595           5.9             0.55         0.1            2.2     0.062   \n",
       "1596           6.3             0.51        0.13            2.3     0.076   \n",
       "1597           5.9            0.645        0.12              2     0.075   \n",
       "1598             6             0.31        0.47            3.6     0.067   \n",
       "\n",
       "     free sulfur dioxide total sulfur dioxide  density    pH sulphates  \\\n",
       "0                     11                   34   0.9978  3.51      0.56   \n",
       "1                     25                   67   0.9968   3.2      0.68   \n",
       "2                     15                   54    0.997  3.26      0.65   \n",
       "3                     17                   60    0.998  3.16      0.58   \n",
       "4                     11                   34   0.9978  3.51      0.56   \n",
       "...                  ...                  ...      ...   ...       ...   \n",
       "1594                  32                   44   0.9949  3.45      0.58   \n",
       "1595                  39                   51  0.99512  3.52      0.76   \n",
       "1596                  29                   40  0.99574  3.42      0.75   \n",
       "1597                  32                   44  0.99547  3.57      0.71   \n",
       "1598                  18                   42  0.99549  3.39      0.66   \n",
       "\n",
       "     alcohol  quality  \n",
       "0        9.4        0  \n",
       "1        9.8        0  \n",
       "2        9.8        0  \n",
       "3        9.8        0  \n",
       "4        9.4        0  \n",
       "...      ...      ...  \n",
       "1594    10.5        0  \n",
       "1595    11.2        0  \n",
       "1596      11        0  \n",
       "1597    10.2        0  \n",
       "1598      11        0  \n",
       "\n",
       "[1599 rows x 12 columns]"
      ]
     },
     "execution_count": 5,
     "metadata": {},
     "output_type": "execute_result"
    }
   ],
   "source": [
    "redwinecleaned"
   ]
  },
  {
   "cell_type": "markdown",
   "metadata": {},
   "source": [
    "**b)** Classification, cross validation\n",
    "* Perform a classification using the kNN algorithm! Using the 10-fold cross validation technique determine for what *k* value will the classifier's F-score be optimal! (Analyze values of *k* in a reasonable interval!) <br>\n",
    "Present the boxplot of the obtained F-scores (the boxplot of 10 F-scores for each *k* values) against *k*!  <br>\n",
    "(Hint: use the *model_selection.cross_val_score* function and set *scoring = 'f1'*!) \n",
    "<br>\n",
    "(Hint2: use the boxplot function from the *seaborn* package!)\n"
   ]
  },
  {
   "cell_type": "code",
   "execution_count": 6,
   "metadata": {},
   "outputs": [],
   "source": [
    "#knn algorithm using 10-fold cross validation\n",
    "#determining for what k value will the classfiers F-score be optimal\n",
    "#boxplot of the obtained F-scores"
   ]
  },
  {
   "cell_type": "code",
   "execution_count": 7,
   "metadata": {},
   "outputs": [],
   "source": [
    "import seaborn as sns\n",
    "import matplotlib.pyplot as plt"
   ]
  },
  {
   "cell_type": "code",
   "execution_count": 16,
   "metadata": {},
   "outputs": [],
   "source": [
    "#Dividing Data Into Features and Target(s)\n",
    "feature_columns = colnamesnew[0:11]\n",
    "target = colnamesnew[11]\n",
    "X = redwinecleaned[feature_columns].values\n",
    "y = redwinecleaned[target].values\n",
    "#Label Encoding\n",
    "from sklearn.preprocessing import LabelEncoder\n",
    "le = LabelEncoder()\n",
    "y = le.fit_transform(y)"
   ]
  },
  {
   "cell_type": "code",
   "execution_count": 30,
   "metadata": {},
   "outputs": [
    {
     "name": "stderr",
     "output_type": "stream",
     "text": [
      "/Users/shrey/opt/anaconda3/lib/python3.9/site-packages/seaborn/axisgrid.py:2076: UserWarning: The `size` parameter has been renamed to `height`; please update your code.\n",
      "  warnings.warn(msg, UserWarning)\n"
     ]
    },
    {
     "data": {
      "text/plain": [
       "<Figure size 432x288 with 0 Axes>"
      ]
     },
     "metadata": {},
     "output_type": "display_data"
    },
    {
     "data": {
      "image/png": "[encoded data removed]",
      "text/plain": [
       "<Figure size 285.25x216 with 2 Axes>"
      ]
     },
     "metadata": {
      "needs_background": "light"
     },
     "output_type": "display_data"
    },
    {
     "data": {
      "text/plain": [
       "<Figure size 432x288 with 0 Axes>"
      ]
     },
     "metadata": {},
     "output_type": "display_data"
    },
    {
     "data": {
      "image/png": "[encoded data removed]",
      "text/plain": [
       "<Figure size 1080x720 with 1 Axes>"
      ]
     },
     "metadata": {
      "needs_background": "light"
     },
     "output_type": "display_data"
    }
   ],
   "source": [
    "#Visualizing Dataset using Pairplot\n",
    "plt.figure()\n",
    "sns.pairplot(redwinecleaned, hue = \"fixed acidity\", size=3, markers=[\"o\", \"s\", \"D\"])\n",
    "plt.show()\n",
    "#Visualizing Dataset using Boxplot\n",
    "plt.figure()\n",
    "redwinecleaned.boxplot(by=\"alcohol\", figsize=(15, 10))\n",
    "plt.show()"
   ]
  },
  {
   "cell_type": "code",
   "execution_count": 31,
   "metadata": {},
   "outputs": [],
   "source": [
    "#Splitting the Data into Training and Testing Dataset\n",
    "from sklearn.model_selection import train_test_split\n",
    "X_train, X_test, y_train, y_test = train_test_split(X, y, test_size = 0.2, random_state = 0)"
   ]
  },
  {
   "cell_type": "code",
   "execution_count": 32,
   "metadata": {},
   "outputs": [],
   "source": [
    "#Fitting the Model and Making Predictions \n",
    "from sklearn.neighbors import KNeighborsClassifier\n",
    "from sklearn.metrics import confusion_matrix, accuracy_score\n",
    "from sklearn.model_selection import cross_val_score\n",
    "\n",
    "classifier = KNeighborsClassifier(n_neighbors=3)\n",
    "classifier.fit(X_train, y_train)\n",
    "y_pred = classifier.predict(X_test)"
   ]
  },
  {
   "cell_type": "code",
   "execution_count": 33,
   "metadata": {},
   "outputs": [
    {
     "name": "stdout",
     "output_type": "stream",
     "text": [
      "Accuracy of the model:89.69 %.\n"
     ]
    }
   ],
   "source": [
    "#Confusion Matrix\n",
    "confusion_matrix = confusion_matrix(y_test, y_pred)\n",
    "confusion_matrix\n",
    "#Calculating Model Accuracy\n",
    "accuracy = accuracy_score(y_test, y_pred)*100\n",
    "print('Accuracy of the model:' + str(round(accuracy, 2)) + ' %.')"
   ]
  },
  {
   "cell_type": "code",
   "execution_count": 86,
   "metadata": {},
   "outputs": [],
   "source": [
    "#Performing 10 fold Cross Validation on knn\n",
    "k_list = list(range(1,21))\n",
    "cv_scores = []\n",
    "for k in k_list:\n",
    "    knn = KNeighborsClassifier(n_neighbors=k)\n",
    "    scores = cross_val_score(knn, X_train, y_train, cv=10, scoring='f1')\n",
    "    cv_scores.append(scores)\n"
   ]
  },
  {
   "cell_type": "code",
   "execution_count": 88,
   "metadata": {},
   "outputs": [
    {
     "data": {
      "text/plain": [
       "{'whiskers': [<matplotlib.lines.Line2D at 0x7ff58b83f850>,\n",
       "  <matplotlib.lines.Line2D at 0x7ff58b83fb20>,\n",
       "  <matplotlib.lines.Line2D at 0x7ff58b849c40>,\n",
       "  <matplotlib.lines.Line2D at 0x7ff58b849f10>,\n",
       "  <matplotlib.lines.Line2D at 0x7ff57bc3c790>,\n",
       "  <matplotlib.lines.Line2D at 0x7ff57bc34550>,\n",
       "  <matplotlib.lines.Line2D at 0x7ff58b8518e0>,\n",
       "  <matplotlib.lines.Line2D at 0x7ff58b851bb0>,\n",
       "  <matplotlib.lines.Line2D at 0x7ff58b85dcd0>,\n",
       "  <matplotlib.lines.Line2D at 0x7ff58b85dfa0>,\n",
       "  <matplotlib.lines.Line2D at 0x7ff58b870100>,\n",
       "  <matplotlib.lines.Line2D at 0x7ff58b8703d0>,\n",
       "  <matplotlib.lines.Line2D at 0x7ff59dfb44f0>,\n",
       "  <matplotlib.lines.Line2D at 0x7ff59dfb47c0>,\n",
       "  <matplotlib.lines.Line2D at 0x7ff59dfbd8e0>,\n",
       "  <matplotlib.lines.Line2D at 0x7ff59dfbdbb0>,\n",
       "  <matplotlib.lines.Line2D at 0x7ff59dfcacd0>,\n",
       "  <matplotlib.lines.Line2D at 0x7ff59dfcafa0>,\n",
       "  <matplotlib.lines.Line2D at 0x7ff59dfdf100>,\n",
       "  <matplotlib.lines.Line2D at 0x7ff59dfdf3d0>,\n",
       "  <matplotlib.lines.Line2D at 0x7ff59dfea4f0>,\n",
       "  <matplotlib.lines.Line2D at 0x7ff59dfea7c0>,\n",
       "  <matplotlib.lines.Line2D at 0x7ff59eac68e0>,\n",
       "  <matplotlib.lines.Line2D at 0x7ff59eac6bb0>,\n",
       "  <matplotlib.lines.Line2D at 0x7ff59ead0cd0>,\n",
       "  <matplotlib.lines.Line2D at 0x7ff59ead0fa0>,\n",
       "  <matplotlib.lines.Line2D at 0x7ff59eae7100>,\n",
       "  <matplotlib.lines.Line2D at 0x7ff59eae73d0>,\n",
       "  <matplotlib.lines.Line2D at 0x7ff59eaf14f0>,\n",
       "  <matplotlib.lines.Line2D at 0x7ff59eaf17c0>,\n",
       "  <matplotlib.lines.Line2D at 0x7ff59eafd8e0>,\n",
       "  <matplotlib.lines.Line2D at 0x7ff59eafdbb0>,\n",
       "  <matplotlib.lines.Line2D at 0x7ff558580cd0>,\n",
       "  <matplotlib.lines.Line2D at 0x7ff558580fa0>,\n",
       "  <matplotlib.lines.Line2D at 0x7ff558596100>,\n",
       "  <matplotlib.lines.Line2D at 0x7ff5585963d0>,\n",
       "  <matplotlib.lines.Line2D at 0x7ff5585a04f0>,\n",
       "  <matplotlib.lines.Line2D at 0x7ff5585a07c0>,\n",
       "  <matplotlib.lines.Line2D at 0x7ff5585aa8e0>,\n",
       "  <matplotlib.lines.Line2D at 0x7ff5585aabb0>],\n",
       " 'caps': [<matplotlib.lines.Line2D at 0x7ff58b83fdf0>,\n",
       "  <matplotlib.lines.Line2D at 0x7ff58b849100>,\n",
       "  <matplotlib.lines.Line2D at 0x7ff58b851220>,\n",
       "  <matplotlib.lines.Line2D at 0x7ff57bc42370>,\n",
       "  <matplotlib.lines.Line2D at 0x7ff57bc34e50>,\n",
       "  <matplotlib.lines.Line2D at 0x7ff57bc3f6d0>,\n",
       "  <matplotlib.lines.Line2D at 0x7ff58b851e80>,\n",
       "  <matplotlib.lines.Line2D at 0x7ff58b85d190>,\n",
       "  <matplotlib.lines.Line2D at 0x7ff58b8652b0>,\n",
       "  <matplotlib.lines.Line2D at 0x7ff58b865580>,\n",
       "  <matplotlib.lines.Line2D at 0x7ff58b8706a0>,\n",
       "  <matplotlib.lines.Line2D at 0x7ff58b870970>,\n",
       "  <matplotlib.lines.Line2D at 0x7ff59dfb4a90>,\n",
       "  <matplotlib.lines.Line2D at 0x7ff59dfb4d60>,\n",
       "  <matplotlib.lines.Line2D at 0x7ff59dfbde80>,\n",
       "  <matplotlib.lines.Line2D at 0x7ff59dfca190>,\n",
       "  <matplotlib.lines.Line2D at 0x7ff59dfd32b0>,\n",
       "  <matplotlib.lines.Line2D at 0x7ff59dfd3580>,\n",
       "  <matplotlib.lines.Line2D at 0x7ff59dfdf6a0>,\n",
       "  <matplotlib.lines.Line2D at 0x7ff59dfdf970>,\n",
       "  <matplotlib.lines.Line2D at 0x7ff59dfeaa90>,\n",
       "  <matplotlib.lines.Line2D at 0x7ff59dfead60>,\n",
       "  <matplotlib.lines.Line2D at 0x7ff59eac6e80>,\n",
       "  <matplotlib.lines.Line2D at 0x7ff59ead0190>,\n",
       "  <matplotlib.lines.Line2D at 0x7ff59eada2b0>,\n",
       "  <matplotlib.lines.Line2D at 0x7ff59eada580>,\n",
       "  <matplotlib.lines.Line2D at 0x7ff59eae76a0>,\n",
       "  <matplotlib.lines.Line2D at 0x7ff59eae7970>,\n",
       "  <matplotlib.lines.Line2D at 0x7ff59eaf1a90>,\n",
       "  <matplotlib.lines.Line2D at 0x7ff59eaf1d60>,\n",
       "  <matplotlib.lines.Line2D at 0x7ff59eafde80>,\n",
       "  <matplotlib.lines.Line2D at 0x7ff558580190>,\n",
       "  <matplotlib.lines.Line2D at 0x7ff5585892b0>,\n",
       "  <matplotlib.lines.Line2D at 0x7ff558589580>,\n",
       "  <matplotlib.lines.Line2D at 0x7ff5585966a0>,\n",
       "  <matplotlib.lines.Line2D at 0x7ff558596970>,\n",
       "  <matplotlib.lines.Line2D at 0x7ff5585a0a90>,\n",
       "  <matplotlib.lines.Line2D at 0x7ff5585a0d60>,\n",
       "  <matplotlib.lines.Line2D at 0x7ff5585aae80>,\n",
       "  <matplotlib.lines.Line2D at 0x7ff5585b7190>],\n",
       " 'boxes': [<matplotlib.lines.Line2D at 0x7ff58b83f580>,\n",
       "  <matplotlib.lines.Line2D at 0x7ff58b849970>,\n",
       "  <matplotlib.lines.Line2D at 0x7ff57bc3c430>,\n",
       "  <matplotlib.lines.Line2D at 0x7ff58b851610>,\n",
       "  <matplotlib.lines.Line2D at 0x7ff58b85da00>,\n",
       "  <matplotlib.lines.Line2D at 0x7ff58b865df0>,\n",
       "  <matplotlib.lines.Line2D at 0x7ff59dfb4220>,\n",
       "  <matplotlib.lines.Line2D at 0x7ff59dfbd610>,\n",
       "  <matplotlib.lines.Line2D at 0x7ff59dfcaa00>,\n",
       "  <matplotlib.lines.Line2D at 0x7ff59dfd3df0>,\n",
       "  <matplotlib.lines.Line2D at 0x7ff59dfea220>,\n",
       "  <matplotlib.lines.Line2D at 0x7ff59eac6610>,\n",
       "  <matplotlib.lines.Line2D at 0x7ff59ead0a00>,\n",
       "  <matplotlib.lines.Line2D at 0x7ff59eadadf0>,\n",
       "  <matplotlib.lines.Line2D at 0x7ff59eaf1220>,\n",
       "  <matplotlib.lines.Line2D at 0x7ff59eafd610>,\n",
       "  <matplotlib.lines.Line2D at 0x7ff558580a00>,\n",
       "  <matplotlib.lines.Line2D at 0x7ff558589df0>,\n",
       "  <matplotlib.lines.Line2D at 0x7ff5585a0220>,\n",
       "  <matplotlib.lines.Line2D at 0x7ff5585aa610>],\n",
       " 'medians': [<matplotlib.lines.Line2D at 0x7ff58b8493d0>,\n",
       "  <matplotlib.lines.Line2D at 0x7ff57bc41910>,\n",
       "  <matplotlib.lines.Line2D at 0x7ff57bc22370>,\n",
       "  <matplotlib.lines.Line2D at 0x7ff58b85d460>,\n",
       "  <matplotlib.lines.Line2D at 0x7ff58b865850>,\n",
       "  <matplotlib.lines.Line2D at 0x7ff58b870c40>,\n",
       "  <matplotlib.lines.Line2D at 0x7ff59dfbd070>,\n",
       "  <matplotlib.lines.Line2D at 0x7ff59dfca460>,\n",
       "  <matplotlib.lines.Line2D at 0x7ff59dfd3850>,\n",
       "  <matplotlib.lines.Line2D at 0x7ff59dfdfc40>,\n",
       "  <matplotlib.lines.Line2D at 0x7ff59eac6070>,\n",
       "  <matplotlib.lines.Line2D at 0x7ff59ead0460>,\n",
       "  <matplotlib.lines.Line2D at 0x7ff59eada850>,\n",
       "  <matplotlib.lines.Line2D at 0x7ff59eae7c40>,\n",
       "  <matplotlib.lines.Line2D at 0x7ff59eafd070>,\n",
       "  <matplotlib.lines.Line2D at 0x7ff558580460>,\n",
       "  <matplotlib.lines.Line2D at 0x7ff558589850>,\n",
       "  <matplotlib.lines.Line2D at 0x7ff558596c40>,\n",
       "  <matplotlib.lines.Line2D at 0x7ff5585aa070>,\n",
       "  <matplotlib.lines.Line2D at 0x7ff5585b7460>],\n",
       " 'fliers': [<matplotlib.lines.Line2D at 0x7ff58b8496a0>,\n",
       "  <matplotlib.lines.Line2D at 0x7ff57bc41760>,\n",
       "  <matplotlib.lines.Line2D at 0x7ff58b851340>,\n",
       "  <matplotlib.lines.Line2D at 0x7ff58b85d730>,\n",
       "  <matplotlib.lines.Line2D at 0x7ff58b865b20>,\n",
       "  <matplotlib.lines.Line2D at 0x7ff58b870f10>,\n",
       "  <matplotlib.lines.Line2D at 0x7ff59dfbd340>,\n",
       "  <matplotlib.lines.Line2D at 0x7ff59dfca730>,\n",
       "  <matplotlib.lines.Line2D at 0x7ff59dfd3b20>,\n",
       "  <matplotlib.lines.Line2D at 0x7ff59dfdff10>,\n",
       "  <matplotlib.lines.Line2D at 0x7ff59eac6340>,\n",
       "  <matplotlib.lines.Line2D at 0x7ff59ead0730>,\n",
       "  <matplotlib.lines.Line2D at 0x7ff59eadab20>,\n",
       "  <matplotlib.lines.Line2D at 0x7ff59eae7f10>,\n",
       "  <matplotlib.lines.Line2D at 0x7ff59eafd340>,\n",
       "  <matplotlib.lines.Line2D at 0x7ff558580730>,\n",
       "  <matplotlib.lines.Line2D at 0x7ff558589b20>,\n",
       "  <matplotlib.lines.Line2D at 0x7ff558596f10>,\n",
       "  <matplotlib.lines.Line2D at 0x7ff5585aa340>,\n",
       "  <matplotlib.lines.Line2D at 0x7ff5585b7730>],\n",
       " 'means': []}"
      ]
     },
     "execution_count": 88,
     "metadata": {},
     "output_type": "execute_result"
    },
    {
     "data": {
      "image/png": "[encoded data removed]",
      "text/plain": [
       "<Figure size 432x288 with 1 Axes>"
      ]
     },
     "metadata": {
      "needs_background": "light"
     },
     "output_type": "display_data"
    }
   ],
   "source": [
    "#Boxplot\n",
    "plt.boxplot(cv_scores)"
   ]
  },
  {
   "cell_type": "code",
   "execution_count": 92,
   "metadata": {},
   "outputs": [],
   "source": [
    "#Finding Best K\n",
    "# As we can see from the box plot above, the best k is 1 - it has the highest f1 score"
   ]
  },
  {
   "cell_type": "markdown",
   "metadata": {},
   "source": [
    "**c)** Now solve the classification problem using a decision tree! Repeat the analysis of part b), but now, let the examined parameter be the tree's maximum depth!"
   ]
  },
  {
   "cell_type": "code",
   "execution_count": 90,
   "metadata": {},
   "outputs": [],
   "source": [
    "#Using decision tree\n",
    "from sklearn.tree import DecisionTreeClassifier\n",
    "\n",
    "k_list2 = list(range(1,21))\n",
    "cv_scores2 = []\n",
    "for j in k_list2:\n",
    "    dec = DecisionTreeClassifier(max_depth=j)\n",
    "    scores2 = cross_val_score(dec, X_train, y_train, cv=10, scoring='f1')\n",
    "    cv_scores2.append(scores2)\n"
   ]
  },
  {
   "cell_type": "code",
   "execution_count": 91,
   "metadata": {},
   "outputs": [
    {
     "data": {
      "text/plain": [
       "{'whiskers': [<matplotlib.lines.Line2D at 0x7ff558653550>,\n",
       "  <matplotlib.lines.Line2D at 0x7ff558653820>,\n",
       "  <matplotlib.lines.Line2D at 0x7ff55865f940>,\n",
       "  <matplotlib.lines.Line2D at 0x7ff55865fc10>,\n",
       "  <matplotlib.lines.Line2D at 0x7ff55866bd30>,\n",
       "  <matplotlib.lines.Line2D at 0x7ff558677040>,\n",
       "  <matplotlib.lines.Line2D at 0x7ff59eb6f160>,\n",
       "  <matplotlib.lines.Line2D at 0x7ff59eb6f430>,\n",
       "  <matplotlib.lines.Line2D at 0x7ff59eb7a550>,\n",
       "  <matplotlib.lines.Line2D at 0x7ff59eb7a820>,\n",
       "  <matplotlib.lines.Line2D at 0x7ff59eb84940>,\n",
       "  <matplotlib.lines.Line2D at 0x7ff59eb84c10>,\n",
       "  <matplotlib.lines.Line2D at 0x7ff59eb94610>,\n",
       "  <matplotlib.lines.Line2D at 0x7ff59eb948e0>,\n",
       "  <matplotlib.lines.Line2D at 0x7ff58b87fa00>,\n",
       "  <matplotlib.lines.Line2D at 0x7ff58b87fcd0>,\n",
       "  <matplotlib.lines.Line2D at 0x7ff59eb9bdf0>,\n",
       "  <matplotlib.lines.Line2D at 0x7ff59eba6100>,\n",
       "  <matplotlib.lines.Line2D at 0x7ff59ebb4220>,\n",
       "  <matplotlib.lines.Line2D at 0x7ff59ebb44f0>,\n",
       "  <matplotlib.lines.Line2D at 0x7ff59ebc0610>,\n",
       "  <matplotlib.lines.Line2D at 0x7ff59ebc08e0>,\n",
       "  <matplotlib.lines.Line2D at 0x7ff59ebcfa00>,\n",
       "  <matplotlib.lines.Line2D at 0x7ff59ebcfcd0>,\n",
       "  <matplotlib.lines.Line2D at 0x7ff59ebdadf0>,\n",
       "  <matplotlib.lines.Line2D at 0x7ff59ebe6100>,\n",
       "  <matplotlib.lines.Line2D at 0x7ff59ebf3220>,\n",
       "  <matplotlib.lines.Line2D at 0x7ff59ebf34f0>,\n",
       "  <matplotlib.lines.Line2D at 0x7ff59ec00610>,\n",
       "  <matplotlib.lines.Line2D at 0x7ff59ec008e0>,\n",
       "  <matplotlib.lines.Line2D at 0x7ff59ec0da00>,\n",
       "  <matplotlib.lines.Line2D at 0x7ff59ec0dcd0>,\n",
       "  <matplotlib.lines.Line2D at 0x7ff59ec18df0>,\n",
       "  <matplotlib.lines.Line2D at 0x7ff59ec25100>,\n",
       "  <matplotlib.lines.Line2D at 0x7ff59ec32220>,\n",
       "  <matplotlib.lines.Line2D at 0x7ff59ec324f0>,\n",
       "  <matplotlib.lines.Line2D at 0x7ff59ec3f610>,\n",
       "  <matplotlib.lines.Line2D at 0x7ff59ec3f8e0>,\n",
       "  <matplotlib.lines.Line2D at 0x7ff59ec4da00>,\n",
       "  <matplotlib.lines.Line2D at 0x7ff59ec4dcd0>],\n",
       " 'caps': [<matplotlib.lines.Line2D at 0x7ff558653af0>,\n",
       "  <matplotlib.lines.Line2D at 0x7ff558653dc0>,\n",
       "  <matplotlib.lines.Line2D at 0x7ff55865fee0>,\n",
       "  <matplotlib.lines.Line2D at 0x7ff55866b1f0>,\n",
       "  <matplotlib.lines.Line2D at 0x7ff558677310>,\n",
       "  <matplotlib.lines.Line2D at 0x7ff5586775e0>,\n",
       "  <matplotlib.lines.Line2D at 0x7ff59eb6f700>,\n",
       "  <matplotlib.lines.Line2D at 0x7ff59eb6f9d0>,\n",
       "  <matplotlib.lines.Line2D at 0x7ff59eb7aaf0>,\n",
       "  <matplotlib.lines.Line2D at 0x7ff59eb7adc0>,\n",
       "  <matplotlib.lines.Line2D at 0x7ff59eb84ee0>,\n",
       "  <matplotlib.lines.Line2D at 0x7ff55861a880>,\n",
       "  <matplotlib.lines.Line2D at 0x7ff59eb94bb0>,\n",
       "  <matplotlib.lines.Line2D at 0x7ff59eb94e80>,\n",
       "  <matplotlib.lines.Line2D at 0x7ff58b87ffa0>,\n",
       "  <matplotlib.lines.Line2D at 0x7ff59eb9b2b0>,\n",
       "  <matplotlib.lines.Line2D at 0x7ff59eba63d0>,\n",
       "  <matplotlib.lines.Line2D at 0x7ff59eba66a0>,\n",
       "  <matplotlib.lines.Line2D at 0x7ff59ebb47c0>,\n",
       "  <matplotlib.lines.Line2D at 0x7ff59ebb4a90>,\n",
       "  <matplotlib.lines.Line2D at 0x7ff59ebc0bb0>,\n",
       "  <matplotlib.lines.Line2D at 0x7ff59ebc0e80>,\n",
       "  <matplotlib.lines.Line2D at 0x7ff59ebcffa0>,\n",
       "  <matplotlib.lines.Line2D at 0x7ff59ebda2b0>,\n",
       "  <matplotlib.lines.Line2D at 0x7ff59ebe63d0>,\n",
       "  <matplotlib.lines.Line2D at 0x7ff59ebe66a0>,\n",
       "  <matplotlib.lines.Line2D at 0x7ff59ebf37c0>,\n",
       "  <matplotlib.lines.Line2D at 0x7ff59ebf3a90>,\n",
       "  <matplotlib.lines.Line2D at 0x7ff59ec00bb0>,\n",
       "  <matplotlib.lines.Line2D at 0x7ff59ec00e80>,\n",
       "  <matplotlib.lines.Line2D at 0x7ff59ec0dfa0>,\n",
       "  <matplotlib.lines.Line2D at 0x7ff59ec182b0>,\n",
       "  <matplotlib.lines.Line2D at 0x7ff59ec253d0>,\n",
       "  <matplotlib.lines.Line2D at 0x7ff59ec256a0>,\n",
       "  <matplotlib.lines.Line2D at 0x7ff59ec327c0>,\n",
       "  <matplotlib.lines.Line2D at 0x7ff59ec32a90>,\n",
       "  <matplotlib.lines.Line2D at 0x7ff59ec3fbb0>,\n",
       "  <matplotlib.lines.Line2D at 0x7ff59ec3fe80>,\n",
       "  <matplotlib.lines.Line2D at 0x7ff59ec4dfa0>,\n",
       "  <matplotlib.lines.Line2D at 0x7ff59ec582b0>],\n",
       " 'boxes': [<matplotlib.lines.Line2D at 0x7ff558653280>,\n",
       "  <matplotlib.lines.Line2D at 0x7ff55865f670>,\n",
       "  <matplotlib.lines.Line2D at 0x7ff55866ba60>,\n",
       "  <matplotlib.lines.Line2D at 0x7ff558677e50>,\n",
       "  <matplotlib.lines.Line2D at 0x7ff59eb7a280>,\n",
       "  <matplotlib.lines.Line2D at 0x7ff59eb84670>,\n",
       "  <matplotlib.lines.Line2D at 0x7ff59eb94340>,\n",
       "  <matplotlib.lines.Line2D at 0x7ff58b87f730>,\n",
       "  <matplotlib.lines.Line2D at 0x7ff59eb9bb20>,\n",
       "  <matplotlib.lines.Line2D at 0x7ff59eba6f10>,\n",
       "  <matplotlib.lines.Line2D at 0x7ff59ebc0340>,\n",
       "  <matplotlib.lines.Line2D at 0x7ff59ebcf730>,\n",
       "  <matplotlib.lines.Line2D at 0x7ff59ebdab20>,\n",
       "  <matplotlib.lines.Line2D at 0x7ff59ebe6f10>,\n",
       "  <matplotlib.lines.Line2D at 0x7ff59ec00340>,\n",
       "  <matplotlib.lines.Line2D at 0x7ff59ec0d730>,\n",
       "  <matplotlib.lines.Line2D at 0x7ff59ec18b20>,\n",
       "  <matplotlib.lines.Line2D at 0x7ff59ec25f10>,\n",
       "  <matplotlib.lines.Line2D at 0x7ff59ec3f340>,\n",
       "  <matplotlib.lines.Line2D at 0x7ff59ec4d730>],\n",
       " 'medians': [<matplotlib.lines.Line2D at 0x7ff55865f0d0>,\n",
       "  <matplotlib.lines.Line2D at 0x7ff55866b4c0>,\n",
       "  <matplotlib.lines.Line2D at 0x7ff5586778b0>,\n",
       "  <matplotlib.lines.Line2D at 0x7ff59eb6fca0>,\n",
       "  <matplotlib.lines.Line2D at 0x7ff59eb840d0>,\n",
       "  <matplotlib.lines.Line2D at 0x7ff558613760>,\n",
       "  <matplotlib.lines.Line2D at 0x7ff58b87f190>,\n",
       "  <matplotlib.lines.Line2D at 0x7ff59eb9b580>,\n",
       "  <matplotlib.lines.Line2D at 0x7ff59eba6970>,\n",
       "  <matplotlib.lines.Line2D at 0x7ff59ebb4d60>,\n",
       "  <matplotlib.lines.Line2D at 0x7ff59ebcf190>,\n",
       "  <matplotlib.lines.Line2D at 0x7ff59ebda580>,\n",
       "  <matplotlib.lines.Line2D at 0x7ff59ebe6970>,\n",
       "  <matplotlib.lines.Line2D at 0x7ff59ebf3d60>,\n",
       "  <matplotlib.lines.Line2D at 0x7ff59ec0d190>,\n",
       "  <matplotlib.lines.Line2D at 0x7ff59ec18580>,\n",
       "  <matplotlib.lines.Line2D at 0x7ff59ec25970>,\n",
       "  <matplotlib.lines.Line2D at 0x7ff59ec32d60>,\n",
       "  <matplotlib.lines.Line2D at 0x7ff59ec4d190>,\n",
       "  <matplotlib.lines.Line2D at 0x7ff59ec58580>],\n",
       " 'fliers': [<matplotlib.lines.Line2D at 0x7ff55865f3a0>,\n",
       "  <matplotlib.lines.Line2D at 0x7ff55866b790>,\n",
       "  <matplotlib.lines.Line2D at 0x7ff558677b80>,\n",
       "  <matplotlib.lines.Line2D at 0x7ff59eb6ff70>,\n",
       "  <matplotlib.lines.Line2D at 0x7ff59eb843a0>,\n",
       "  <matplotlib.lines.Line2D at 0x7ff59eb940a0>,\n",
       "  <matplotlib.lines.Line2D at 0x7ff58b87f460>,\n",
       "  <matplotlib.lines.Line2D at 0x7ff59eb9b850>,\n",
       "  <matplotlib.lines.Line2D at 0x7ff59eba6c40>,\n",
       "  <matplotlib.lines.Line2D at 0x7ff59ebc0070>,\n",
       "  <matplotlib.lines.Line2D at 0x7ff59ebcf460>,\n",
       "  <matplotlib.lines.Line2D at 0x7ff59ebda850>,\n",
       "  <matplotlib.lines.Line2D at 0x7ff59ebe6c40>,\n",
       "  <matplotlib.lines.Line2D at 0x7ff59ec00070>,\n",
       "  <matplotlib.lines.Line2D at 0x7ff59ec0d460>,\n",
       "  <matplotlib.lines.Line2D at 0x7ff59ec18850>,\n",
       "  <matplotlib.lines.Line2D at 0x7ff59ec25c40>,\n",
       "  <matplotlib.lines.Line2D at 0x7ff59ec3f070>,\n",
       "  <matplotlib.lines.Line2D at 0x7ff59ec4d460>,\n",
       "  <matplotlib.lines.Line2D at 0x7ff59ec58850>],\n",
       " 'means': []}"
      ]
     },
     "execution_count": 91,
     "metadata": {},
     "output_type": "execute_result"
    },
    {
     "data": {
      "image/png": "[encoded data removed]",
      "text/plain": [
       "<Figure size 432x288 with 1 Axes>"
      ]
     },
     "metadata": {
      "needs_background": "light"
     },
     "output_type": "display_data"
    }
   ],
   "source": [
    "plt.boxplot(cv_scores2)"
   ]
  },
  {
   "cell_type": "markdown",
   "metadata": {},
   "source": [
    "---"
   ]
  },
  {
   "cell_type": "markdown",
   "metadata": {},
   "source": [
    "## Exercise 2 (HW3/2)"
   ]
  },
  {
   "cell_type": "markdown",
   "metadata": {},
   "source": [
    "Using predictive analytics methods, we would like to identify first-year college students at risk of dropping out and academic failure. <span style=\"color:red\">Write a one-page long essay covering the following points!</span> (50%)\n",
    "\n",
    "**a)** Design the analysis, think through the stages of the analysis following CRISP-DM methodology! How can you state the problem as a data science problem? What machine learning approaches could be used here? (See Lecture 02!) \n",
    "\n",
    "**b)** Do you think that the requirements of a successful data science projects are met? Go through the 7 requirements that we have covered in class! (See Lecture 02!) \n",
    "\n",
    "**c)** What ethical questions are raised in this project? Mention utilizations that you think are useful and ethical and give examples of bad applications as well!\n"
   ]
  },
  {
   "cell_type": "code",
   "execution_count": null,
   "metadata": {},
   "outputs": [],
   "source": [
    "#essay attached as part of submission"
   ]
  }
 ],
 "metadata": {
  "kernelspec": {
   "display_name": "Python 3.9.12 ('base')",
   "language": "python",
   "name": "python3"
  },
  "language_info": {
   "codemirror_mode": {
    "name": "ipython",
    "version": 3
   },
   "file_extension": ".py",
   "mimetype": "text/x-python",
   "name": "python",
   "nbconvert_exporter": "python",
   "pygments_lexer": "ipython3",
   "version": "3.9.12"
  },
  "vscode": {
   "interpreter": {
    "hash": "1fd1106cda516d7a7e5f15a41547e4d1607bcbc7c59ee6c8a9b61ac352c167bb"
   }
  }
 },
 "nbformat": 4,
 "nbformat_minor": 2
}
