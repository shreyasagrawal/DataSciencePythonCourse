{
 "cells": [
  {
   "cell_type": "markdown",
   "metadata": {},
   "source": [
    "#  Homework 1 (HW1)\n",
    "Deadline: September 22 at 11:59pm\n",
    "\n",
    "The homework must be handed in through the Moodle system. \n",
    "\n",
    "<span style=\"color:red\">Provide a written answer if requested in the exercise! These questions are marked in red.</span>"
   ]
  },
  {
   "cell_type": "markdown",
   "metadata": {},
   "source": [
    "---"
   ]
  },
  {
   "cell_type": "markdown",
   "metadata": {},
   "source": [
    "## Exercise 1 (HW1/1)"
   ]
  },
  {
   "cell_type": "markdown",
   "metadata": {},
   "source": [
    "In this exercise we will investigate income inequality and life expectancy indicators for different countries and regions. (60%)"
   ]
  },
  {
   "cell_type": "markdown",
   "metadata": {},
   "source": [
    "**a)** Import the *countries.csv* file (located in the Data folder of the parent directory of the current file) into a pandas DataFrame and name it *countries*. (Hint: use relative path). From the Gapminder database (http://www.gapminder.org/data/), find and import the *Income per person (GDP/capita, PPP$ inflation-adjusted)* and *Life expentancy (years)* files into pandas Dataframes; name them *income* and *life_exp* respectively. You should import the data directly from the web page, without dowloading it to your computer. (Hint: Use the  *pandas.read_excel()* function!) <br>\n"
   ]
  },
  {
   "cell_type": "markdown",
   "metadata": {},
   "source": [
    "**b)** Represent the distribution of income per capita (across countries) for a given year (for example: 2007) with a histogram!  \n",
    "\n"
   ]
  },
  {
   "cell_type": "markdown",
   "metadata": {},
   "source": [
    "**c)** Write a function that merges the  *countries*, *income* and *life_exp* DataFrames for a given year (this should be the function's input) <br>\n",
    "(Hint: Use the *pd.merge()* function!)"
   ]
  },
  {
   "cell_type": "markdown",
   "metadata": {},
   "source": [
    "**d)** Using the dataframe created in point c), present a [boxplot](https://pandas.pydata.org/pandas-docs/stable/reference/api/pandas.DataFrame.boxplot.html) of the distribution of income per capita (across countries) for the years 1950 and 2010 grouped by region (continent). <span style=\"color:red\">What changed in 60 years?</span>\n",
    "(Hints: 1. Use the *pd.boxplot* function! 2. Use a logarithmic scale for the income axis!)"
   ]
  },
  {
   "cell_type": "markdown",
   "metadata": {},
   "source": [
    "**e)** Represent the relationship between income per capita and life expectancy for a given year using a [scatter plot](https://pandas.pydata.org/pandas-docs/version/0.23/generated/pandas.DataFrame.plot.scatter.html) based on the dataframe created in point c). (Hint: choose a year where there aren't many missing values!) \n",
    "<span style=\"color:red\">What can you conclude from the plot?</span>"
   ]
  },
  {
   "cell_type": "markdown",
   "metadata": {},
   "source": [
    "**f)** OPTIONAL for 5% extra credit: From the Gapminder database, find and import the CO2 emissions per capita  file into a pandas dataframe, and call it *co2_emissions*. Represent the relationship between CO2 emissions and income in whatever way you choose. <span style=\"color:red\">Describe your plot and what conclusions you can draw from it. Be sure to discuss the limitations of the datasets and how these may mitigate your conclusions.</span>"
   ]
  },
  {
   "cell_type": "markdown",
   "metadata": {},
   "source": [
    "## Exercise 2 (HW1/2)"
   ]
  },
  {
   "cell_type": "markdown",
   "metadata": {},
   "source": [
    "In this exercise we will investigate the data scientist job offers of the  most important job search website in the U.S ([indeed.com](http://www.indeed.com)). (40%)"
   ]
  },
  {
   "cell_type": "markdown",
   "metadata": {},
   "source": [
    "**a)**  Using the *selenium* and *BeautifulSoap* packages, import the search results for the keyword *data scientist*, that is, the content of this URL: https://www.indeed.com/q-Data-Scientist-jobs.html?vjk=9ba2eaf21a524a1e \n",
    "\n",
    "Write a function that returns the number of results of the query - i.e. how many job offers! (Hint: Look for the 'div' HTML tag with the 'id' attribute with a value of 'searchCountPages'! Note that you can always work backward by searching for the correct number in the HTML string and viewing the corresponding tag and attribute values)"
   ]
  },
  {
   "cell_type": "markdown",
   "metadata": {},
   "source": [
    "**b)** What are the most common terms in the job offer adds on indeed.com? Analize the first 100 search result pages and create a word cloud of the most popular terms! \n",
    "\n",
    "(Hint: When you click \"next page\" in the search results the link only slightly changes, look at the part of the link that says \"start=\". You can access the search result pages as: https://www.indeed.com/jobs?q=Data%20Scientist&start=10&vjk=5f448d3b50e88276, https://www.indeed.com/jobs?q=Data%20Scientist&start=20&vjk=5f448d3b50e88276, https://www.indeed.com/jobs?q=Data%20Scientist&start=30&vjk=5f448d3b50e88276 and so on counting by 10 up to https://www.indeed.com/jobs?q=Data%20Scientist&start=990&vjk=5f448d3b50e88276. It may take a few minutes so it is recommended to test your code on one or two pages first and if it works correctly then apply it to the rest of the pages. This way you will save a lot of time if your code needs debugging. ) \n",
    " \n",
    "\n",
    "(Hint: You can find more information on how to create a Word Cloud at https://www.datacamp.com/community/tutorials/wordcloud-python)"
   ]
  },
  {
   "cell_type": "markdown",
   "metadata": {},
   "source": [
    "**c)** From the previously collected data, retrieve the job offers' location information and represent the 10 most frequent cities on a [horizontal bar chart](https://pandas.pydata.org/pandas-docs/stable/reference/api/pandas.DataFrame.plot.barh.html)! Filter the \"United States\" and \"Remote\" locations from the results, look for cities only!\n",
    "\n",
    "(Hint: You can find the necessary information in the 'div' HTML-tag with the 'class' attribute with the value 'companyLocation'.)"
   ]
  }
 ],
 "metadata": {
  "kernelspec": {
   "display_name": "Python 3 (ipykernel)",
   "language": "python",
   "name": "python3"
  },
  "language_info": {
   "codemirror_mode": {
    "name": "ipython",
    "version": 3
   },
   "file_extension": ".py",
   "mimetype": "text/x-python",
   "name": "python",
   "nbconvert_exporter": "python",
   "pygments_lexer": "ipython3",
   "version": "3.9.12"
  }
 },
 "nbformat": 4,
 "nbformat_minor": 2
}
